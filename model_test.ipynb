{
 "cells": [
  {
   "cell_type": "code",
   "execution_count": null,
   "metadata": {},
   "outputs": [],
   "source": [
    "import caffe\n",
    "import numpy as np\n",
    "import os"
   ]
  },
  {
   "cell_type": "code",
   "execution_count": null,
   "metadata": {},
   "outputs": [],
   "source": [
    "image_root = 'images'\n",
    "test_image = ['{}.jpeg'.format(i) for i in range(4)]"
   ]
  },
  {
   "cell_type": "code",
   "execution_count": null,
   "metadata": {},
   "outputs": [],
   "source": [
    "def test(net, input_image=\"images/cat.png\", output_tensor=\"fc5_\"):\n",
    "    transformer = caffe.io.Transformer({'data': net.blobs['data'].data.shape})\n",
    "    transformer.set_transpose('data', (2,0,1))\n",
    "    transformer.set_channel_swap('data', (2,1,0))\n",
    "    \n",
    "    image = caffe.io.load_image(input_image)\n",
    "    transformed_image = transformer.preprocess('data', (image * 255 - 127.5) * 0.0078125 )\n",
    "    net.blobs['data'].reshape(1, 3, 128, 128)\n",
    "    net.blobs['data'].data[...] = transformed_image\n",
    "\n",
    "    output = net.forward()\n",
    "    return output[output_tensor].reshape(-1)"
   ]
  },
  {
   "cell_type": "code",
   "execution_count": null,
   "metadata": {},
   "outputs": [],
   "source": [
    "def cosine_dist(x, y):\n",
    "    return np.dot(x,y)/(np.linalg.norm(x)*np.linalg.norm(y))"
   ]
  },
  {
   "cell_type": "code",
   "execution_count": null,
   "metadata": {},
   "outputs": [],
   "source": [
    "net = caffe.Net(\"./models/origin/TestModel.prototxt\", \"./models/origin/TestModel.caffemodel\", caffe.TEST)\n",
    "net2 = caffe.Net(\"./models/no_bn/TestModel.prototxt\", \"./models/no_bn/TestModel.caffemodel\", caffe.TEST)"
   ]
  },
  {
   "cell_type": "code",
   "execution_count": null,
   "metadata": {},
   "outputs": [],
   "source": [
    "for img in test_image:\n",
    "    output1 = test(net, os.path.join(image_root, img))\n",
    "    output2 = test(net2, os.path.join(image_root, img))\n",
    "    print(cosine_dist(output1, output2))"
   ]
  }
 ],
 "metadata": {
  "kernelspec": {
   "display_name": "Python 3",
   "language": "python",
   "name": "python3"
  },
  "language_info": {
   "codemirror_mode": {
    "name": "ipython",
    "version": 3
   },
   "file_extension": ".py",
   "mimetype": "text/x-python",
   "name": "python",
   "nbconvert_exporter": "python",
   "pygments_lexer": "ipython3",
   "version": "3.7.1"
  }
 },
 "nbformat": 4,
 "nbformat_minor": 2
}
